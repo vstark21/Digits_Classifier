{
 "metadata": {
  "language_info": {
   "codemirror_mode": {
    "name": "ipython",
    "version": 3
   },
   "file_extension": ".py",
   "mimetype": "text/x-python",
   "name": "python",
   "nbconvert_exporter": "python",
   "pygments_lexer": "ipython3",
   "version": "3.8.3-final"
  },
  "orig_nbformat": 2,
  "kernelspec": {
   "name": "python_defaultSpec_1599497345595",
   "display_name": "Python 3.8.3 64-bit ('mlEnv': conda)"
  }
 },
 "nbformat": 4,
 "nbformat_minor": 2,
 "cells": [
  {
   "cell_type": "code",
   "execution_count": 1,
   "metadata": {},
   "outputs": [],
   "source": [
    "from main_utils import *"
   ]
  },
  {
   "cell_type": "code",
   "execution_count": 2,
   "metadata": {},
   "outputs": [],
   "source": [
    "model = build_model()"
   ]
  },
  {
   "cell_type": "code",
   "execution_count": 3,
   "metadata": {
    "tags": []
   },
   "outputs": [
    {
     "output_type": "stream",
     "name": "stdout",
     "text": "Camera Connected\n6\n3\n5\n2\n5\n6\n8\n2\n3\n6\n0\n2\n8\n2\n3\n6\n0\n7\n0\n3\n2\n3\n6\n0\n7\n0\n8\n2\n3\n6\n0\n2\n6\n6\n7\n1\n9\n6\n0\n2\n9\n2\n2\n8\n2\n3\n0\n2\n6\n"
    },
    {
     "output_type": "error",
     "ename": "NameError",
     "evalue": "name 'e' is not defined",
     "traceback": [
      "\u001b[1;31m---------------------------------------------------------------------------\u001b[0m",
      "\u001b[1;31mNameError\u001b[0m                                 Traceback (most recent call last)",
      "\u001b[1;32m<ipython-input-3-e146a337a458>\u001b[0m in \u001b[0;36m<module>\u001b[1;34m\u001b[0m\n\u001b[0;32m     28\u001b[0m             \u001b[0mcv2\u001b[0m\u001b[1;33m.\u001b[0m\u001b[0mwaitKey\u001b[0m\u001b[1;33m(\u001b[0m\u001b[1;36m0\u001b[0m\u001b[1;33m)\u001b[0m\u001b[1;33m\u001b[0m\u001b[1;33m\u001b[0m\u001b[0m\n\u001b[0;32m     29\u001b[0m \u001b[1;33m\u001b[0m\u001b[0m\n\u001b[1;32m---> 30\u001b[1;33m \u001b[0mprint\u001b[0m\u001b[1;33m(\u001b[0m\u001b[0me\u001b[0m\u001b[1;33m)\u001b[0m\u001b[1;33m\u001b[0m\u001b[1;33m\u001b[0m\u001b[0m\n\u001b[0m\u001b[0;32m     31\u001b[0m \u001b[0mcap\u001b[0m\u001b[1;33m.\u001b[0m\u001b[0mrelease\u001b[0m\u001b[1;33m(\u001b[0m\u001b[1;33m)\u001b[0m\u001b[1;33m\u001b[0m\u001b[1;33m\u001b[0m\u001b[0m\n\u001b[0;32m     32\u001b[0m \u001b[0mcv2\u001b[0m\u001b[1;33m.\u001b[0m\u001b[0mdestroyAllWindows\u001b[0m\u001b[1;33m(\u001b[0m\u001b[1;33m)\u001b[0m\u001b[1;33m\u001b[0m\u001b[1;33m\u001b[0m\u001b[0m\n",
      "\u001b[1;31mNameError\u001b[0m: name 'e' is not defined"
     ]
    }
   ],
   "source": [
    "cap = cv2.VideoCapture(\"http://192.168.0.100:9360/mjpegfeed\")\n",
    "print(\"Camera Connected\")\n",
    "\n",
    "while cap.isOpened():\n",
    "\n",
    "    _, frame = cap.read()\n",
    "    frame = frame[25:, :]\n",
    "    # frame = np.array(np.rot90(frame, 3))\n",
    "\n",
    "    cv2.imshow(\"image\", frame)\n",
    "    key = cv2.waitKey(1)\n",
    "    if key == ord('q'):\n",
    "        break\n",
    "\n",
    "    elif key == ord(\"c\"):\n",
    "        boxes, masked_img = get_boundary_points(frame)\n",
    "\n",
    "        if boxes:\n",
    "\n",
    "            images = get_resized_images(boxes, masked_img)\n",
    "\n",
    "            arr = predict(model, images)\n",
    "\n",
    "            res = draw_bounding_boxes(boxes, arr, frame)\n",
    "\n",
    "\n",
    "            cv2.imshow(\"result\", res)\n",
    "            cv2.waitKey(0)\n",
    "\n",
    "print(e)\n",
    "cap.release()\n",
    "cv2.destroyAllWindows()\n",
    "\n",
    "# cv2.imwrite(\"res.jpg\", res)\n",
    "# cv2.waitKey(0)"
   ]
  },
  {
   "cell_type": "code",
   "execution_count": null,
   "metadata": {},
   "outputs": [],
   "source": []
  }
 ]
}