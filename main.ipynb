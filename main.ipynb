{
  "nbformat": 4,
  "nbformat_minor": 0,
  "metadata": {
    "language_info": {
      "codemirror_mode": {
        "name": "ipython",
        "version": 3
      },
      "file_extension": ".py",
      "mimetype": "text/x-python",
      "name": "python",
      "nbconvert_exporter": "python",
      "pygments_lexer": "ipython3",
      "version": "3.8.3-final"
    },
    "orig_nbformat": 2,
    "kernelspec": {
      "name": "python_defaultSpec_1599580597053",
      "display_name": "Python 3.8.3 64-bit ('mlEnv': conda)"
    },
    "colab": {
      "name": "main.ipynb",
      "provenance": [],
      "collapsed_sections": []
    }
  },
  "cells": [
    {
      "cell_type": "markdown",
      "metadata": {
        "id": "WfjpXyN8suGe",
        "colab_type": "text"
      },
      "source": [
        "## Detecting digits in given picture and drawing boxes around it\n",
        "\n",
        "[![Open In Colab](https://colab.research.google.com/assets/colab-badge.svg)](https://colab.research.google.com/github/vstark21/Digits_Detection/blob/master/main.ipynb)"
      ]
    },
    {
      "cell_type": "markdown",
      "metadata": {
        "id": "QyZdthqVtPUx",
        "colab_type": "text"
      },
      "source": [
        "First let's import our modules."
      ]
    },
    {
      "cell_type": "code",
      "metadata": {
        "tags": [],
        "id": "lKPQ21CdsryF",
        "colab_type": "code",
        "colab": {}
      },
      "source": [
        "from main_utils import *"
      ],
      "execution_count": null,
      "outputs": []
    },
    {
      "cell_type": "markdown",
      "metadata": {
        "id": "D9-zZtHUtWZq",
        "colab_type": "text"
      },
      "source": [
        "Now let's build our CNN model."
      ]
    },
    {
      "cell_type": "code",
      "metadata": {
        "id": "3qb-NXEVsryI",
        "colab_type": "code",
        "colab": {}
      },
      "source": [
        "model = build_model()"
      ],
      "execution_count": null,
      "outputs": []
    },
    {
      "cell_type": "markdown",
      "metadata": {
        "id": "JiIZgrkLtaCD",
        "colab_type": "text"
      },
      "source": [
        "And now lets connect to our camera and take feed from it and predicts digits in it!"
      ]
    },
    {
      "cell_type": "code",
      "metadata": {
        "tags": [],
        "id": "oGGezkj8sryL",
        "colab_type": "code",
        "colab": {},
        "outputId": "ead18605-9e24-4778-a562-cfc5507962b7"
      },
      "source": [
        "cap = cv2.VideoCapture(\"http://x.x.x.x:y/mjpegfeed\")\n",
        "print(\"Camera Connected\")\n",
        "\n",
        "try:\n",
        "    while cap.isOpened():\n",
        "\n",
        "        _, frame = cap.read()\n",
        "        frame = frame[25:, :]\n",
        "        frame = cv2.rotate(frame, cv2.ROTATE_90_CLOCKWISE)\n",
        "\n",
        "        cv2.imshow(\"Original Image\", frame)\n",
        "        cv2.imwrite(\"test.jpg\", frame)\n",
        "        key = cv2.waitKey(1)\n",
        "        \n",
        "    \n",
        "        if key == ord('q'):\n",
        "            break\n",
        "\n",
        "        elif key == ord(\"c\"):\n",
        "\n",
        "            boxes, masked_img = get_boundary_points(frame)\n",
        "\n",
        "            if boxes:\n",
        "\n",
        "                images = get_resized_images(boxes, masked_img)\n",
        "\n",
        "                arr = predict(model, images)\n",
        "\n",
        "                res = draw_bounding_boxes(boxes, arr, frame)\n",
        "\n",
        "                cv2.imshow(\"Result\", res)\n",
        "                cv2.imshow(\"Masked Image\", masked_img)\n",
        "\n",
        "                \n",
        "                cv2.imwrite(\"result.jpg\", res)\n",
        "\n",
        "                key = cv2.waitKey(0)\n",
        "                if key == ord('q'):\n",
        "                    cv2.destroyAllWindows()\n",
        "\n",
        "\n",
        "except Exception as e:\n",
        "    print(e)\n",
        "\n",
        "cap.release()\n",
        "print(\"Camera Disconnected\")\n",
        "cv2.destroyAllWindows()\n",
        "\n"
      ],
      "execution_count": null,
      "outputs": [
        {
          "output_type": "stream",
          "text": [
            "Camera Connected\n",
            "(640, 455, 3)\n",
            "(640, 455, 3)\n",
            "(640, 455, 3)\n",
            "(640, 455, 3)\n",
            "Camera Disconnected\n"
          ],
          "name": "stdout"
        }
      ]
    }
  ]
}