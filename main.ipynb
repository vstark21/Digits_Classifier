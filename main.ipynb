{
 "metadata": {
  "language_info": {
   "codemirror_mode": {
    "name": "ipython",
    "version": 3
   },
   "file_extension": ".py",
   "mimetype": "text/x-python",
   "name": "python",
   "nbconvert_exporter": "python",
   "pygments_lexer": "ipython3",
   "version": "3.8.3-final"
  },
  "orig_nbformat": 2,
  "kernelspec": {
   "name": "python_defaultSpec_1599577144851",
   "display_name": "Python 3.8.3 64-bit ('mlEnv': conda)"
  }
 },
 "nbformat": 4,
 "nbformat_minor": 2,
 "cells": [
  {
   "cell_type": "code",
   "execution_count": 1,
   "metadata": {
    "tags": []
   },
   "outputs": [],
   "source": [
    "from main_utils import *\n",
    "from time import sleep"
   ]
  },
  {
   "cell_type": "code",
   "execution_count": 2,
   "metadata": {},
   "outputs": [],
   "source": [
    "model = build_model()"
   ]
  },
  {
   "cell_type": "code",
   "execution_count": 3,
   "metadata": {
    "tags": []
   },
   "outputs": [],
   "source": [
    "cap = cv2.VideoCapture(\"http://192.168.0.100:9360/mjpegfeed\")\n",
    "print(\"Camera Connected\")\n",
    "\n",
    "try:\n",
    "    while cap.isOpened():\n",
    "\n",
    "        _, frame = cap.read()\n",
    "        frame = frame[25:, :]\n",
    "        frame = cv2.rotate(frame, cv2.ROTATE_90_CLOCKWISE)\n",
    "\n",
    "        cv2.imshow(\"Original Image\", frame)\n",
    "        key = cv2.waitKey(1)\n",
    "        \n",
    "    \n",
    "        if key == ord('q'):\n",
    "            break\n",
    "\n",
    "        elif key == ord(\"c\"):\n",
    "\n",
    "            boxes, masked_img = get_boundary_points(frame)\n",
    "\n",
    "            if boxes:\n",
    "\n",
    "                images = get_resized_images(boxes, masked_img)\n",
    "\n",
    "                arr = predict(model, images)\n",
    "\n",
    "                res = draw_bounding_boxes(boxes, arr, frame)\n",
    "\n",
    "                cv2.imshow(\"Result\", res)\n",
    "                cv2.imshow(\"Masked Image\", masked_img)\n",
    "\n",
    "                key = cv2.waitKey(0)\n",
    "                if key == ord('q'):\n",
    "                    cv2.destroyAllWindows()\n",
    "\n",
    "\n",
    "\n",
    "except Exception as e:\n",
    "    print(e)\n",
    "\n",
    "cap.release()\n",
    "print(\"Camera Disconnected\")\n",
    "cv2.destroyAllWindows()\n",
    "\n"
   ]
  },
  {
   "cell_type": "code",
   "execution_count": null,
   "metadata": {},
   "outputs": [],
   "source": []
  }
 ]
}